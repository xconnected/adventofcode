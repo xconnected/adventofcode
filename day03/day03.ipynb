{
 "cells": [
  {
   "cell_type": "markdown",
   "source": [
    "## Advent of Code 2022 - Day 3"
   ],
   "metadata": {
    "collapsed": false
   }
  },
  {
   "cell_type": "code",
   "execution_count": null,
   "outputs": [],
   "source": [
    "fn = r\"ENTER INPUT FILE PATH AND NAME\""
   ],
   "metadata": {
    "collapsed": false
   }
  },
  {
   "cell_type": "code",
   "execution_count": null,
   "outputs": [],
   "source": [
    "def item_prio(item):\n",
    "\n",
    "    if (item >= 'a') and (item <= 'z'):\n",
    "        item_num = ord(item)-96\n",
    "    else:\n",
    "        item_num = ord(item)-38\n",
    "\n",
    "    return item_num"
   ],
   "metadata": {
    "collapsed": false
   }
  },
  {
   "cell_type": "code",
   "execution_count": 38,
   "outputs": [
    {
     "name": "stdout",
     "output_type": "stream",
     "text": [
      "7917\n"
     ]
    }
   ],
   "source": [
    "file = open(fn, 'r')\n",
    "backpacks = file.readlines()\n",
    "\n",
    "prio_sum = 0\n",
    "\n",
    "for backpack in backpacks :\n",
    "    half = int((len(backpack)-1)/2)\n",
    "    front = backpack[0:half]\n",
    "    back = backpack[half:]\n",
    "\n",
    "    for i in set(front) & set(back):\n",
    "        prio_sum += item_prio(i)\n",
    "\n",
    "print(prio_sum)"
   ],
   "metadata": {
    "collapsed": false
   }
  },
  {
   "cell_type": "code",
   "execution_count": 49,
   "outputs": [
    {
     "name": "stdout",
     "output_type": "stream",
     "text": [
      "2585\n"
     ]
    }
   ],
   "source": [
    "file = open(fn, 'r')\n",
    "backpacks = file.readlines()\n",
    "\n",
    "prio_sum = 0\n",
    "team = []\n",
    "prio_sum = 0\n",
    "for backpack in backpacks :\n",
    "    team.append(backpack[:len(backpack)-1])\n",
    "    if len(team) == 3:\n",
    "        for i in set(team[0]) & set(team[1]) & set(team[2]):\n",
    "            prio_sum += item_prio(i)\n",
    "        team = []\n",
    "print(prio_sum)"
   ],
   "metadata": {
    "collapsed": false
   }
  },
  {
   "cell_type": "code",
   "execution_count": null,
   "outputs": [],
   "source": [],
   "metadata": {
    "collapsed": false
   }
  }
 ],
 "metadata": {
  "kernelspec": {
   "display_name": "Python 3",
   "language": "python",
   "name": "python3"
  },
  "language_info": {
   "codemirror_mode": {
    "name": "ipython",
    "version": 2
   },
   "file_extension": ".py",
   "mimetype": "text/x-python",
   "name": "python",
   "nbconvert_exporter": "python",
   "pygments_lexer": "ipython2",
   "version": "2.7.6"
  }
 },
 "nbformat": 4,
 "nbformat_minor": 0
}
