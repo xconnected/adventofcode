{
 "cells": [
  {
   "cell_type": "markdown",
   "metadata": {
    "collapsed": false
   },
   "source": [
    "# Advent of Code 2022 - Day 6\n"
   ]
  },
  {
   "cell_type": "code",
   "execution_count": null,
   "metadata": {},
   "outputs": [],
   "source": [
    "# https://adventofcode.com/2022/day/6\n",
    "fn = r\"C:\\DevLab\\remote\\adventofcode2022.data\\day06_input.txt\""
   ]
  },
  {
   "cell_type": "code",
   "execution_count": null,
   "metadata": {},
   "outputs": [],
   "source": [
    "file = open(fn, 'r')\n",
    "\n",
    "comm = file.read()\n",
    "\n",
    "for i in range(0, len(comm)-4):\n",
    "    start_seq = len(set(comm[i:4+i])) == len(comm[i:4+i])\n",
    "    if start_seq:\n",
    "        print(i+4)\n",
    "        break"
   ]
  },
  {
   "cell_type": "code",
   "execution_count": null,
   "metadata": {},
   "outputs": [],
   "source": [
    "file = open(fn, 'r')\n",
    "\n",
    "comm = file.read()\n",
    "\n",
    "for i in range(0, len(comm)-14):\n",
    "    start_seq = len(set(comm[i:14+i])) == len(comm[i:14+i])\n",
    "    if start_seq:\n",
    "        print(i+14)\n",
    "        break"
   ]
  },
  {
   "cell_type": "code",
   "execution_count": null,
   "metadata": {},
   "outputs": [],
   "source": []
  }
 ],
 "metadata": {
  "kernelspec": {
   "display_name": "Python 3",
   "language": "python",
   "name": "python3"
  },
  "language_info": {
   "codemirror_mode": {
    "name": "ipython",
    "version": 2
   },
   "file_extension": ".py",
   "mimetype": "text/x-python",
   "name": "python",
   "nbconvert_exporter": "python",
   "pygments_lexer": "ipython2",
   "version": "2.7.6"
  }
 },
 "nbformat": 4,
 "nbformat_minor": 0
}
