{
 "cells": [
  {
   "cell_type": "markdown",
   "metadata": {
    "collapsed": false
   },
   "source": [
    "# Advent of Code 2022 - Day 12\n"
   ]
  },
  {
   "cell_type": "code",
   "execution_count": null,
   "metadata": {},
   "outputs": [],
   "source": [
    "# https://adventofcode.com/2022/day/12\n",
    "fn = r\"C:\\DevLab\\local\\adventofcode\\day12_test.txt\""
   ]
  },
  {
   "cell_type": "code",
   "execution_count": null,
   "metadata": {},
   "outputs": [],
   "source": [
    "# Helpers\n",
    "import numpy as np"
   ]
  },
  {
   "cell_type": "code",
   "execution_count": null,
   "metadata": {},
   "outputs": [],
   "source": [
    "file = open(fn, 'r')\n",
    "\n",
    "area_lines = file.readlines()\n",
    "\n",
    "init = True\n",
    "for line in area_lines :\n",
    "    if init:\n",
    "        area = np.vstack([list(line.strip())])\n",
    "        init = False\n",
    "    else:\n",
    "        area = np.vstack([area, list(line.strip())])\n",
    "\n",
    "route = np.zeros(area.shape, dtype=int)"
   ]
  },
  {
   "cell_type": "code",
   "execution_count": null,
   "metadata": {},
   "outputs": [],
   "source": [
    "def find(search_value, area):\n",
    "\n",
    "    x_max, y_max = area.shape\n",
    "    hit = False\n",
    "\n",
    "    for y in range(y_max):\n",
    "        for x in range(x_max):\n",
    "            if area[x,y] == search_value:\n",
    "                hit_x = x\n",
    "                hit_y = y\n",
    "                hit = True\n",
    "                break\n",
    "        if hit:\n",
    "            break\n",
    "\n",
    "    return hit_x, hit_y"
   ]
  },
  {
   "cell_type": "code",
   "execution_count": null,
   "metadata": {},
   "outputs": [],
   "source": [
    "def display(s,x,y,route):\n",
    "    print (s,x,y)\n",
    "    print(route)"
   ]
  },
  {
   "cell_type": "code",
   "execution_count": null,
   "metadata": {},
   "outputs": [],
   "source": [
    "def check_and_set_around(x, y, area, route):\n",
    "\n",
    "    spot = area[x,y]\n",
    "    if spot == 'E':\n",
    "        spot = 'z'\n",
    "    elif spot == 'S':\n",
    "        spot = 'a'\n",
    "\n",
    "    step = int(route[x,y])+1\n",
    "\n",
    "    display(\"check left=\",x,y,route)\n",
    "    # left\n",
    "    if y > 0:\n",
    "        if int(route[x, y-1]) == 0:\n",
    "            if abs(ord(spot) - ord(area[x, y-1])) <= 1:\n",
    "                route[x, y-1] = step\n",
    "                area, route = check_and_set_around(x, y-1, area, route)\n",
    "\n",
    "    display(\"check right=\",x,y,route)\n",
    "    # right\n",
    "    if y < area.shape[1]-1:\n",
    "        if int(route[x, y+1]) == 0:\n",
    "            if abs(ord(spot) - ord(area[x, y+1])) <= 1:\n",
    "                route[x, y+1] = step\n",
    "                area, route = check_and_set_around(x, y+1, area, route)\n",
    "\n",
    "    display(\"check up=\",x,y,route)\n",
    "    # up\n",
    "    if x > 0:\n",
    "        if int(route[x-1, y]) == 0:\n",
    "            if abs(ord(spot) - ord(area[x-1, y])) <= 1:\n",
    "                route[x-1, y] = step\n",
    "                area, route = check_and_set_around(x-1, y, area, route)\n",
    "\n",
    "    display(\"check down=\",x,y,route)\n",
    "    # down\n",
    "    if x < area.shape[0]-1:\n",
    "        if int(route[x+1, y]) == 0:\n",
    "            if abs(ord(spot) - ord(area[x+1, y])) <= 1:\n",
    "                route[x+1, y] = step\n",
    "                area, route = check_and_set_around(x+1, y,area, route)\n",
    "\n",
    "    return area, route"
   ]
  },
  {
   "cell_type": "code",
   "execution_count": null,
   "metadata": {},
   "outputs": [],
   "source": [
    "x,y = find('E', area)\n",
    "route[x,y,] = 1\n",
    "area, route = check_and_set_around(x, y, area, route)"
   ]
  },
  {
   "cell_type": "code",
   "execution_count": null,
   "metadata": {},
   "outputs": [],
   "source": [
    "area"
   ]
  },
  {
   "cell_type": "code",
   "execution_count": null,
   "metadata": {},
   "outputs": [],
   "source": []
  }
 ],
 "metadata": {
  "kernelspec": {
   "display_name": "Python 3",
   "language": "python",
   "name": "python3"
  },
  "language_info": {
   "codemirror_mode": {
    "name": "ipython",
    "version": 2
   },
   "file_extension": ".py",
   "mimetype": "text/x-python",
   "name": "python",
   "nbconvert_exporter": "python",
   "pygments_lexer": "ipython2",
   "version": "2.7.6"
  }
 },
 "nbformat": 4,
 "nbformat_minor": 0
}
