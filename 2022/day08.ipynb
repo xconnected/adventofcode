{
 "cells": [
  {
   "cell_type": "markdown",
   "metadata": {
    "collapsed": false
   },
   "source": [
    "# Advent of Code 2022 - Day 8\n"
   ]
  },
  {
   "cell_type": "code",
   "execution_count": null,
   "metadata": {},
   "outputs": [],
   "source": [
    "# https://adventofcode.com/2022/day/8\n",
    "fn = r\"--\""
   ]
  },
  {
   "cell_type": "code",
   "execution_count": null,
   "metadata": {},
   "outputs": [],
   "source": [
    "# Helpers\n",
    "import numpy as np"
   ]
  },
  {
   "cell_type": "code",
   "execution_count": null,
   "metadata": {},
   "outputs": [],
   "source": [
    "file = open(fn, 'r')\n",
    "\n",
    "treelines = file.readlines()\n",
    "\n",
    "init = True\n",
    "for treeline in treelines :\n",
    "    if init:\n",
    "        area = np.vstack([list(treeline.strip())])\n",
    "        init = False\n",
    "    else:\n",
    "        area = np.vstack([area, list(treeline.strip())])\n",
    "area = area.astype(int)"
   ]
  },
  {
   "cell_type": "code",
   "execution_count": null,
   "metadata": {},
   "outputs": [],
   "source": [
    "def is_visible(x, y, area, debug=False):\n",
    "\n",
    "    x_max, y_max = area.shape\n",
    "    value = area[y,x]\n",
    "    visibility = False\n",
    "\n",
    "    if x > 0:\n",
    "        left  = area[y:y+1, 0:x]\n",
    "        visibility = visibility or value > np.amax(left)\n",
    "        if debug:\n",
    "            print(visibility, left)\n",
    "    else:\n",
    "        visibility = True\n",
    "\n",
    "    if x < x_max-1:\n",
    "        right = area[y:y+1, x+1:x_max]\n",
    "        visibility = visibility or value > np.amax(right)\n",
    "        if debug:\n",
    "            print(visibility, right)\n",
    "    else:\n",
    "        visibility = True\n",
    "\n",
    "    if y > 0:\n",
    "        top  = area[0:y, x:x+1]\n",
    "        visibility = visibility or value > np.amax(top)\n",
    "        if debug:\n",
    "            print(visibility, top)\n",
    "    else:\n",
    "        visibility = True\n",
    "\n",
    "    if y < y_max-1:\n",
    "        bottom = area[y+1:y_max, x:x+1]\n",
    "        visibility = visibility or value > np.amax(bottom)\n",
    "        if debug:\n",
    "            print(visibility, bottom)\n",
    "    else:\n",
    "        visibility = True\n",
    "\n",
    "    return visibility"
   ]
  },
  {
   "cell_type": "code",
   "execution_count": null,
   "metadata": {},
   "outputs": [],
   "source": [
    "count = 0\n",
    "\n",
    "for x in range(0, area.shape[0]):\n",
    "    for y in range(0, area.shape[1]):\n",
    "        if is_visible(x, y, area):\n",
    "            count += 1\n",
    "\n",
    "print(count)"
   ]
  },
  {
   "cell_type": "code",
   "execution_count": null,
   "metadata": {},
   "outputs": [],
   "source": [
    "def scenic_score(x, y, area, debug=False):\n",
    "\n",
    "    x_max, y_max = area.shape\n",
    "    value = area[y,x]\n",
    "\n",
    "    # Looking Up\n",
    "    up = y\n",
    "    for i in range(1,y):\n",
    "        if value <= area[y-i,x]:\n",
    "            up = i\n",
    "            break\n",
    "\n",
    "    # Looking Left\n",
    "    left = x\n",
    "    for i in range(1,x):\n",
    "        if value <= area[y,x-i]:\n",
    "            left = i\n",
    "            break\n",
    "\n",
    "    # Looking Down\n",
    "    down = y_max - y - 1\n",
    "    for i in range(y+1,y_max):\n",
    "        if value <= area[i,x]:\n",
    "            down = i - y\n",
    "            break\n",
    "\n",
    "    # Looking Right\n",
    "    right = x_max - x -1\n",
    "    for i in range(x+1,x_max):\n",
    "        if value <= area[y,i]:\n",
    "            right = i - x\n",
    "            break\n",
    "\n",
    "    if up == 0:\n",
    "        up = 1\n",
    "    if left == 0:\n",
    "        left = 1\n",
    "    if down == 0:\n",
    "        down = 1\n",
    "    if right == 0:\n",
    "        right = 1\n",
    "\n",
    "    if debug:\n",
    "        print(f\"[x:{x} y:{y}] u:{up} l:{left} , d:{down} r:{right} = {up * left * down * right}\")\n",
    "\n",
    "    return up * left * down * right"
   ]
  },
  {
   "cell_type": "code",
   "execution_count": null,
   "metadata": {},
   "outputs": [],
   "source": [
    "scenic_score_max = 0\n",
    "\n",
    "for x in range(0, area.shape[0]):\n",
    "    for y in range(0, area.shape[1]):\n",
    "        v = scenic_score(x, y, area)\n",
    "        if v > scenic_score_max:\n",
    "            scenic_score_max = v\n",
    "\n",
    "print(scenic_score_max)"
   ]
  },
  {
   "cell_type": "code",
   "execution_count": null,
   "metadata": {},
   "outputs": [],
   "source": []
  }
 ],
 "metadata": {
  "kernelspec": {
   "display_name": "Python 3",
   "language": "python",
   "name": "python3"
  },
  "language_info": {
   "codemirror_mode": {
    "name": "ipython",
    "version": 2
   },
   "file_extension": ".py",
   "mimetype": "text/x-python",
   "name": "python",
   "nbconvert_exporter": "python",
   "pygments_lexer": "ipython2",
   "version": "2.7.6"
  }
 },
 "nbformat": 4,
 "nbformat_minor": 0
}
