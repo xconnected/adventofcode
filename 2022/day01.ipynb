{
 "cells": [
  {
   "cell_type": "markdown",
   "metadata": {
    "collapsed": false
   },
   "source": [
    "# Advent of Code 2022 - Day 1"
   ]
  },
  {
   "cell_type": "code",
   "execution_count": null,
   "metadata": {},
   "outputs": [],
   "source": [
    "import numpy as np\n",
    "\n",
    "# https://adventofcode.com/2022/day/3\n",
    "fn = r\"ENTER INPUT FILE PATH AND NAME\""
   ]
  },
  {
   "cell_type": "code",
   "execution_count": null,
   "metadata": {},
   "outputs": [],
   "source": [
    "file = open(fn, 'r')\n",
    "lines = file.readlines()\n",
    "\n",
    "sum = 0\n",
    "cal_packages = []\n",
    "\n",
    "for line in lines:\n",
    "    if len(line.strip()) > 0:\n",
    "        sum += int(line.strip())\n",
    "    else:\n",
    "        cal_packages.append(sum)\n",
    "        sum = 0\n",
    "\n",
    "print(f\"unsorted:\\t{cal_packages[0:10]}\")\n",
    "\n",
    "cal_packages.sort(reverse=True)\n",
    "print(f\"sorted:\\t{cal_packages[0:10]}\")\n",
    "\n",
    "cal_packages.sort(reverse=True)\n",
    "print(f\"top three:\\t{np.sum(cal_packages[0:3])}\")\n"
   ]
  },
  {
   "cell_type": "code",
   "execution_count": null,
   "metadata": {},
   "outputs": [],
   "source": []
  }
 ],
 "metadata": {
  "kernelspec": {
   "display_name": "Python 3",
   "language": "python",
   "name": "python3"
  },
  "language_info": {
   "codemirror_mode": {
    "name": "ipython",
    "version": 2
   },
   "file_extension": ".py",
   "mimetype": "text/x-python",
   "name": "python",
   "nbconvert_exporter": "python",
   "pygments_lexer": "ipython2",
   "version": "2.7.6"
  }
 },
 "nbformat": 4,
 "nbformat_minor": 0
}
