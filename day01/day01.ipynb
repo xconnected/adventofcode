{
 "cells": [
  {
   "cell_type": "code",
   "execution_count": 46,
   "outputs": [
    {
     "name": "stdout",
     "output_type": "stream",
     "text": [
      "unsorted:\t[41973, 44876, 44148, 55622, 53228, 13392, 49383, 44820, 23412, 54996]\n",
      "sorted:\t[64929, 64690, 64078, 63931, 62711, 62518, 62154, 62048, 62014, 61985]\n",
      "top three:\t193697\n"
     ]
    }
   ],
   "source": [
    "import numpy as np\n",
    "\n",
    "fn = r\"C:\\DevLab\\local\\adventofcode\\day01\\day01_input.txt\"\n",
    "file = open(fn, 'r')\n",
    "lines = file.readlines()\n",
    "\n",
    "sum = 0\n",
    "cal_packages = []\n",
    "\n",
    "for line in lines:\n",
    "    if len(line.strip()) > 0:\n",
    "        sum += int(line.strip())\n",
    "    else:\n",
    "        cal_packages.append(sum)\n",
    "        sum = 0\n",
    "\n",
    "print(f\"unsorted:\\t{cal_packages[0:10]}\")\n",
    "\n",
    "cal_packages.sort(reverse=True)\n",
    "print(f\"sorted:\\t{cal_packages[0:10]}\")\n",
    "\n",
    "cal_packages.sort(reverse=True)\n",
    "print(f\"top three:\\t{np.sum(cal_packages[0:3])}\")\n"
   ],
   "metadata": {
    "collapsed": false
   }
  },
  {
   "cell_type": "code",
   "execution_count": null,
   "outputs": [],
   "source": [],
   "metadata": {
    "collapsed": false
   }
  }
 ],
 "metadata": {
  "kernelspec": {
   "display_name": "Python 3",
   "language": "python",
   "name": "python3"
  },
  "language_info": {
   "codemirror_mode": {
    "name": "ipython",
    "version": 2
   },
   "file_extension": ".py",
   "mimetype": "text/x-python",
   "name": "python",
   "nbconvert_exporter": "python",
   "pygments_lexer": "ipython2",
   "version": "2.7.6"
  }
 },
 "nbformat": 4,
 "nbformat_minor": 0
}
