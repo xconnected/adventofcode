{
 "cells": [
  {
   "cell_type": "markdown",
   "metadata": {
    "collapsed": false
   },
   "source": [
    "# Advent of Code 2022 - Day 5\n",
    "\n",
    "Get Last 3\n",
    "print(stack[1][-3:])\n",
    "\n",
    "Remove Last 3\n",
    "print(stack[1][:-3])\n",
    "\n",
    "Invert String\n",
    "print(stack[1][::-1])"
   ]
  },
  {
   "cell_type": "code",
   "execution_count": null,
   "metadata": {},
   "outputs": [],
   "source": [
    "# https://adventofcode.com/2022/day/5\n",
    "fn = r\"C:\\DevLab\\remote\\adventofcode2022.data\\day05_input.txt\"\n"
   ]
  },
  {
   "cell_type": "code",
   "execution_count": null,
   "metadata": {},
   "outputs": [],
   "source": [
    "stack = []\n",
    "stack.append('')\n",
    "stack.append('DTRBJLWG')\n",
    "stack.append('SWC')\n",
    "stack.append('RZTM')\n",
    "stack.append('DTCHSPV')\n",
    "stack.append('GPTLDZ')\n",
    "stack.append('FBRZJQCD')\n",
    "stack.append('SBDJMFTR')\n",
    "stack.append('LHRBTVM')\n",
    "stack.append('QPDSV')\n",
    "print(stack)\n",
    "\n",
    "file = open(fn, 'r')\n",
    "\n",
    "moves = file.readlines()\n",
    "\n",
    "for move in moves:\n",
    "    if move.startswith(\"move\"):\n",
    "        move_comp = move[:-1].split(\" \")\n",
    "        nb = int(move_comp[1])\n",
    "        from_stack = int(move_comp[3])\n",
    "        to_stack = int(move_comp[5])\n",
    "        stack[to_stack] = stack[to_stack]+stack[from_stack][-nb:][::-1]\n",
    "        stack[from_stack] = stack[from_stack][:-nb]\n",
    "\n",
    "print(stack)"
   ]
  },
  {
   "cell_type": "code",
   "execution_count": null,
   "metadata": {},
   "outputs": [],
   "source": [
    "stack = []\n",
    "stack.append('')\n",
    "stack.append('DTRBJLWG')\n",
    "stack.append('SWC')\n",
    "stack.append('RZTM')\n",
    "stack.append('DTCHSPV')\n",
    "stack.append('GPTLDZ')\n",
    "stack.append('FBRZJQCD')\n",
    "stack.append('SBDJMFTR')\n",
    "stack.append('LHRBTVM')\n",
    "stack.append('QPDSV')\n",
    "print(stack)\n",
    "\n",
    "file = open(fn, 'r')\n",
    "\n",
    "moves = file.readlines()\n",
    "\n",
    "for move in moves:\n",
    "    if move.startswith(\"move\"):\n",
    "        move_comp = move[:-1].split(\" \")\n",
    "        nb = int(move_comp[1])\n",
    "        from_stack = int(move_comp[3])\n",
    "        to_stack = int(move_comp[5])\n",
    "        stack[to_stack] = stack[to_stack]+stack[from_stack][-nb:]\n",
    "        stack[from_stack] = stack[from_stack][:-nb]\n",
    "\n",
    "print(stack)"
   ]
  }
 ],
 "metadata": {
  "kernelspec": {
   "display_name": "Python 3",
   "language": "python",
   "name": "python3"
  },
  "language_info": {
   "codemirror_mode": {
    "name": "ipython",
    "version": 2
   },
   "file_extension": ".py",
   "mimetype": "text/x-python",
   "name": "python",
   "nbconvert_exporter": "python",
   "pygments_lexer": "ipython2",
   "version": "2.7.6"
  }
 },
 "nbformat": 4,
 "nbformat_minor": 0
}
