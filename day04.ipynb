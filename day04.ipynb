{
 "cells": [
  {
   "cell_type": "markdown",
   "metadata": {
    "collapsed": false
   },
   "source": [
    "# Advent of Code 2022 - Day 4\n"
   ]
  },
  {
   "cell_type": "code",
   "execution_count": null,
   "metadata": {},
   "outputs": [],
   "source": [
    "# https://adventofcode.com/2022/day/3\n",
    "fn = r\"\""
   ]
  },
  {
   "cell_type": "code",
   "execution_count": null,
   "metadata": {},
   "outputs": [],
   "source": [
    "file = open(fn, 'r')\n",
    "\n",
    "assignment_pairs = file.readlines()\n",
    "\n",
    "count = 0\n",
    "\n",
    "for assignment_pair in assignment_pairs :\n",
    "\n",
    "    pair = assignment_pair[:-1].split(',')\n",
    "\n",
    "    sectionA = pair[0].split('-')[0]\n",
    "    sectionB = pair[1].split('-')[1]\n",
    "\n",
    "    section0_start = int(pair[0].split('-')[0])\n",
    "    section0_end   = int(pair[0].split('-')[1])\n",
    "\n",
    "    section1_start = int(pair[1].split('-')[0])\n",
    "    section1_end   = int(pair[1].split('-')[1])\n",
    "\n",
    "\n",
    "    if (section0_start <= section1_start) and (section0_end >= section1_end):\n",
    "        overlap = True\n",
    "\n",
    "    if (section1_start <= section0_start) and (section1_end >= section0_end):\n",
    "        overlap = True\n",
    "\n",
    "    if overlap:\n",
    "        count +=1\n",
    "\n",
    "    overlap = False\n",
    "\n",
    "print(count)"
   ]
  },
  {
   "cell_type": "code",
   "execution_count": null,
   "metadata": {},
   "outputs": [],
   "source": [
    "file = open(fn, 'r')\n",
    "\n",
    "assignment_pairs = file.readlines()\n",
    "\n",
    "count = 0\n",
    "\n",
    "for assignment_pair in assignment_pairs :\n",
    "\n",
    "    pair = assignment_pair[:-1].split(',')\n",
    "\n",
    "    sectionA = pair[0].split('-')[0]\n",
    "    sectionB = pair[1].split('-')[1]\n",
    "\n",
    "    section0_start = int(pair[0].split('-')[0])\n",
    "    section0_end   = int(pair[0].split('-')[1])\n",
    "\n",
    "    section1_start = int(pair[1].split('-')[0])\n",
    "    section1_end   = int(pair[1].split('-')[1])\n",
    "\n",
    "    set0 = set(range(section0_start, section0_end+1))\n",
    "    set1 = set(range(section1_start, section1_end+1))\n",
    "\n",
    "    if len(set0 & set1) > 0:\n",
    "        count +=1\n",
    "\n",
    "print(count)"
   ]
  }
 ],
 "metadata": {
  "kernelspec": {
   "display_name": "Python 3",
   "language": "python",
   "name": "python3"
  },
  "language_info": {
   "codemirror_mode": {
    "name": "ipython",
    "version": 2
   },
   "file_extension": ".py",
   "mimetype": "text/x-python",
   "name": "python",
   "nbconvert_exporter": "python",
   "pygments_lexer": "ipython2",
   "version": "2.7.6"
  }
 },
 "nbformat": 4,
 "nbformat_minor": 0
}
