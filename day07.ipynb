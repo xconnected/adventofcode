{
 "cells": [
  {
   "cell_type": "markdown",
   "metadata": {
    "collapsed": false
   },
   "source": [
    "# Advent of Code 2022 - Day 7\n"
   ]
  },
  {
   "cell_type": "code",
   "execution_count": null,
   "metadata": {},
   "outputs": [],
   "source": [
    "# https://adventofcode.com/2022/day/7\n",
    "fn = r\"ENTER FILE NAME\""
   ]
  },
  {
   "cell_type": "code",
   "execution_count": null,
   "metadata": {},
   "outputs": [],
   "source": [
    "def travers_up(path):\n",
    "    pos = path.rfind('/')\n",
    "    return path[:pos]"
   ]
  },
  {
   "cell_type": "code",
   "execution_count": null,
   "metadata": {},
   "outputs": [],
   "source": [
    "file = open(fn, 'r')\n",
    "\n",
    "lines = file.readlines()\n",
    "\n",
    "dir_structure = {}\n",
    "current_dir = \"\"\n",
    "\n",
    "for line in lines :\n",
    "    line_cleansed = line.strip()\n",
    "\n",
    "    if line_cleansed == '$ cd /':\n",
    "        current_dir = '/'\n",
    "        dir_structure[current_dir] = 0\n",
    "\n",
    "    elif line_cleansed == '$ cd ..':\n",
    "        current_dir = travers_up(current_dir)\n",
    "\n",
    "    elif line_cleansed.startswith('$ cd '):\n",
    "        current_dir = current_dir + '/' + line_cleansed.split(\" \")[2]\n",
    "\n",
    "    elif line_cleansed.startswith('$ ls'):\n",
    "        if not(current_dir in dir_structure.keys()):\n",
    "            dir_structure[current_dir] = 0\n",
    "\n",
    "    elif line_cleansed.startswith('dir '):\n",
    "        continue\n",
    "\n",
    "    else:\n",
    "        size = int(line_cleansed.split(\" \")[0])\n",
    "        wd = current_dir\n",
    "        while True:\n",
    "            dir_structure[wd] += size\n",
    "            wd = travers_up(wd)\n",
    "            if wd == '':\n",
    "                break\n"
   ]
  },
  {
   "cell_type": "code",
   "execution_count": null,
   "metadata": {},
   "outputs": [],
   "source": [
    "dict(sorted(dir_structure.items()))"
   ]
  },
  {
   "cell_type": "code",
   "execution_count": null,
   "metadata": {},
   "outputs": [],
   "source": [
    "print(sum(v for v in dir_structure.values() if v <= 100000))"
   ]
  },
  {
   "cell_type": "code",
   "execution_count": null,
   "metadata": {},
   "outputs": [],
   "source": [
    "used_space = dir_structure[\"/\"]\n",
    "required = 30000000 - (70000000 - used_space)\n",
    "print(min(v for v in dir_structure.values() if v >= required))"
   ]
  }
 ],
 "metadata": {
  "kernelspec": {
   "display_name": "Python 3",
   "language": "python",
   "name": "python3"
  },
  "language_info": {
   "codemirror_mode": {
    "name": "ipython",
    "version": 2
   },
   "file_extension": ".py",
   "mimetype": "text/x-python",
   "name": "python",
   "nbconvert_exporter": "python",
   "pygments_lexer": "ipython2",
   "version": "2.7.6"
  }
 },
 "nbformat": 4,
 "nbformat_minor": 0
}
