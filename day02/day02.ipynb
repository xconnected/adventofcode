{
 "cells": [
  {
   "cell_type": "code",
   "execution_count": 12,
   "metadata": {
    "collapsed": true
   },
   "outputs": [
    {
     "data": {
      "text/plain": "     Op Me OpInt MeInt\n0     B  X     B     X\n1     A  Z     A     Z\n2     A  Y     A     Y\n3     B  X     B     X\n4     C  Z     C     Z\n...  .. ..   ...   ...\n2495  C  Y     C     Y\n2496  B  Y     B     Y\n2497  C  Y     C     Y\n2498  C  Y     C     Y\n2499  B  Y     B     Y\n\n[2500 rows x 4 columns]",
      "text/html": "<div>\n<style scoped>\n    .dataframe tbody tr th:only-of-type {\n        vertical-align: middle;\n    }\n\n    .dataframe tbody tr th {\n        vertical-align: top;\n    }\n\n    .dataframe thead th {\n        text-align: right;\n    }\n</style>\n<table border=\"1\" class=\"dataframe\">\n  <thead>\n    <tr style=\"text-align: right;\">\n      <th></th>\n      <th>Op</th>\n      <th>Me</th>\n      <th>OpInt</th>\n      <th>MeInt</th>\n    </tr>\n  </thead>\n  <tbody>\n    <tr>\n      <th>0</th>\n      <td>B</td>\n      <td>X</td>\n      <td>B</td>\n      <td>X</td>\n    </tr>\n    <tr>\n      <th>1</th>\n      <td>A</td>\n      <td>Z</td>\n      <td>A</td>\n      <td>Z</td>\n    </tr>\n    <tr>\n      <th>2</th>\n      <td>A</td>\n      <td>Y</td>\n      <td>A</td>\n      <td>Y</td>\n    </tr>\n    <tr>\n      <th>3</th>\n      <td>B</td>\n      <td>X</td>\n      <td>B</td>\n      <td>X</td>\n    </tr>\n    <tr>\n      <th>4</th>\n      <td>C</td>\n      <td>Z</td>\n      <td>C</td>\n      <td>Z</td>\n    </tr>\n    <tr>\n      <th>...</th>\n      <td>...</td>\n      <td>...</td>\n      <td>...</td>\n      <td>...</td>\n    </tr>\n    <tr>\n      <th>2495</th>\n      <td>C</td>\n      <td>Y</td>\n      <td>C</td>\n      <td>Y</td>\n    </tr>\n    <tr>\n      <th>2496</th>\n      <td>B</td>\n      <td>Y</td>\n      <td>B</td>\n      <td>Y</td>\n    </tr>\n    <tr>\n      <th>2497</th>\n      <td>C</td>\n      <td>Y</td>\n      <td>C</td>\n      <td>Y</td>\n    </tr>\n    <tr>\n      <th>2498</th>\n      <td>C</td>\n      <td>Y</td>\n      <td>C</td>\n      <td>Y</td>\n    </tr>\n    <tr>\n      <th>2499</th>\n      <td>B</td>\n      <td>Y</td>\n      <td>B</td>\n      <td>Y</td>\n    </tr>\n  </tbody>\n</table>\n<p>2500 rows × 4 columns</p>\n</div>"
     },
     "execution_count": 12,
     "metadata": {},
     "output_type": "execute_result"
    }
   ],
   "source": [
    "import pandas as pd\n",
    "\n",
    "op_rock = 'A'\n",
    "op_paper = 'B'\n",
    "op_scissor = 'C'\n",
    "\n",
    "me_rock = 1\n",
    "me_paper = 2\n",
    "me_scissor = 3\n",
    "\n",
    "win = 6\n",
    "draw = 3\n",
    "loss = 0\n",
    "\n",
    "fn = r\"C:\\DevLab\\local\\adventofcode\\day02\\input_day02.txt\"\n",
    "\n",
    "df = pd.read_csv(fn, header=None, sep=\" \")\n",
    "df.columns =['Op', 'Me']\n",
    "df['OpInt'] = df['Op']\n",
    "df['MeInt'] = df['Me']\n",
    "df"
   ]
  },
  {
   "cell_type": "code",
   "execution_count": 10,
   "outputs": [],
   "source": [
    "df['OpInt'] = df['Op']\n",
    "df.replace({'OpInt': A}, 100)"
   ],
   "metadata": {
    "collapsed": false
   }
  },
  {
   "cell_type": "code",
   "execution_count": 11,
   "outputs": [
    {
     "data": {
      "text/plain": "     Op Me OpInt\n0     B  X     B\n1     A  Z     A\n2     A  Y     A\n3     B  X     B\n4     C  Z     C\n...  .. ..   ...\n2495  C  Y     C\n2496  B  Y     B\n2497  C  Y     C\n2498  C  Y     C\n2499  B  Y     B\n\n[2500 rows x 3 columns]",
      "text/html": "<div>\n<style scoped>\n    .dataframe tbody tr th:only-of-type {\n        vertical-align: middle;\n    }\n\n    .dataframe tbody tr th {\n        vertical-align: top;\n    }\n\n    .dataframe thead th {\n        text-align: right;\n    }\n</style>\n<table border=\"1\" class=\"dataframe\">\n  <thead>\n    <tr style=\"text-align: right;\">\n      <th></th>\n      <th>Op</th>\n      <th>Me</th>\n      <th>OpInt</th>\n    </tr>\n  </thead>\n  <tbody>\n    <tr>\n      <th>0</th>\n      <td>B</td>\n      <td>X</td>\n      <td>B</td>\n    </tr>\n    <tr>\n      <th>1</th>\n      <td>A</td>\n      <td>Z</td>\n      <td>A</td>\n    </tr>\n    <tr>\n      <th>2</th>\n      <td>A</td>\n      <td>Y</td>\n      <td>A</td>\n    </tr>\n    <tr>\n      <th>3</th>\n      <td>B</td>\n      <td>X</td>\n      <td>B</td>\n    </tr>\n    <tr>\n      <th>4</th>\n      <td>C</td>\n      <td>Z</td>\n      <td>C</td>\n    </tr>\n    <tr>\n      <th>...</th>\n      <td>...</td>\n      <td>...</td>\n      <td>...</td>\n    </tr>\n    <tr>\n      <th>2495</th>\n      <td>C</td>\n      <td>Y</td>\n      <td>C</td>\n    </tr>\n    <tr>\n      <th>2496</th>\n      <td>B</td>\n      <td>Y</td>\n      <td>B</td>\n    </tr>\n    <tr>\n      <th>2497</th>\n      <td>C</td>\n      <td>Y</td>\n      <td>C</td>\n    </tr>\n    <tr>\n      <th>2498</th>\n      <td>C</td>\n      <td>Y</td>\n      <td>C</td>\n    </tr>\n    <tr>\n      <th>2499</th>\n      <td>B</td>\n      <td>Y</td>\n      <td>B</td>\n    </tr>\n  </tbody>\n</table>\n<p>2500 rows × 3 columns</p>\n</div>"
     },
     "execution_count": 11,
     "metadata": {},
     "output_type": "execute_result"
    }
   ],
   "source": [
    "df"
   ],
   "metadata": {
    "collapsed": false
   }
  },
  {
   "cell_type": "code",
   "execution_count": null,
   "outputs": [],
   "source": [
    "(1 for Rock, 2 for Paper, and 3 for Scissors)"
   ],
   "metadata": {
    "collapsed": false
   }
  }
 ],
 "metadata": {
  "kernelspec": {
   "display_name": "Python 3",
   "language": "python",
   "name": "python3"
  },
  "language_info": {
   "codemirror_mode": {
    "name": "ipython",
    "version": 2
   },
   "file_extension": ".py",
   "mimetype": "text/x-python",
   "name": "python",
   "nbconvert_exporter": "python",
   "pygments_lexer": "ipython2",
   "version": "2.7.6"
  }
 },
 "nbformat": 4,
 "nbformat_minor": 0
}
