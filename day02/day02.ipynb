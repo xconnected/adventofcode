{
 "cells": [
  {
   "cell_type": "code",
   "execution_count": 86,
   "metadata": {
    "collapsed": true
   },
   "outputs": [],
   "source": [
    "# https://adventofcode.com/2022/day/2\n",
    "\n",
    "import pandas as pd\n",
    "\n",
    "#fn = r\"C:\\DevLab\\local\\adventofcode\\day02\\input_day02.txt\"\n",
    "fn = r\"~/pCloudDrive/devlab/dataspell/adventofcode2022/day02/day02_input.txt\"\n",
    "\n"
   ]
  },
  {
   "cell_type": "code",
   "execution_count": 96,
   "outputs": [
    {
     "name": "stdout",
     "output_type": "stream",
     "text": [
      "10994\n"
     ]
    }
   ],
   "source": [
    "rock = 1\n",
    "paper = 2\n",
    "scissor = 3\n",
    "\n",
    "win = 6\n",
    "draw = 3\n",
    "loss = 0\n",
    "\n",
    "op_rock = 'A'\n",
    "op_paper = 'B'\n",
    "op_scissor = 'C'\n",
    "\n",
    "me_rock = 'X'\n",
    "me_paper = 'Y'\n",
    "me_scissor = 'Z'\n",
    "\n",
    "me_int = {\n",
    "    me_rock:rock,\n",
    "    me_paper:paper,\n",
    "    me_scissor:scissor,\n",
    "}\n",
    "\n",
    "df = pd.read_csv(fn, header=None, sep=\" \")\n",
    "df.columns =['Op', 'Me']\n",
    "\n",
    "me_win = {\n",
    "    'AX':draw,\n",
    "    'AY':win,\n",
    "    'AZ':loss,\n",
    "    'BX':loss,\n",
    "    'BY':draw,\n",
    "    'BZ':win,\n",
    "    'CX':win,\n",
    "    'CY':loss,\n",
    "    'CZ':draw,\n",
    "}\n",
    "\n",
    "df['MeInt'] = df['Me'].replace(me_int)\n",
    "df['game'] = df['Op'].astype(str) + df['Me'].astype(str)\n",
    "df['result'] = df['game'].replace(me_win) + df['MeInt']\n",
    "print(df['result'].sum())\n",
    "#10994"
   ],
   "metadata": {
    "collapsed": false
   }
  },
  {
   "cell_type": "code",
   "execution_count": 90,
   "outputs": [
    {
     "data": {
      "text/plain": "12526"
     },
     "execution_count": 90,
     "metadata": {},
     "output_type": "execute_result"
    }
   ],
   "source": [
    "rock = 1\n",
    "paper = 2\n",
    "scissor = 3\n",
    "\n",
    "win = 6\n",
    "draw = 3\n",
    "loss = 0\n",
    "\n",
    "df = pd.read_csv(fn, header=None, sep=\" \")\n",
    "\n",
    "df.columns =['Op', 'result_str']\n",
    "\n",
    "# x = loose\n",
    "# y = draw\n",
    "# z = win\n",
    "\n",
    "move = {\n",
    "    'AX':scissor,\n",
    "    'AY':rock,\n",
    "    'AZ':paper,\n",
    "    'BX':rock,\n",
    "    'BY':paper,\n",
    "    'BZ':scissor,\n",
    "    'CX':paper,\n",
    "    'CY':scissor,\n",
    "    'CZ':rock,\n",
    "}\n",
    "\n",
    "df['game'] = df['Op'].astype(str)+df['result_str'].astype(str)\n",
    "df['move'] = df['game'].replace(move)\n",
    "df['result'] = df['result_str']\n",
    "df['result'].replace('X', loss, inplace=True)\n",
    "df['result'].replace('Y', draw, inplace=True)\n",
    "df['result'].replace('Z', win, inplace=True)\n",
    "df['result'] += df['move']\n",
    "df['result'].sum()\n",
    "# 12526"
   ],
   "metadata": {
    "collapsed": false
   }
  },
  {
   "cell_type": "code",
   "execution_count": null,
   "outputs": [],
   "source": [],
   "metadata": {
    "collapsed": false
   }
  }
 ],
 "metadata": {
  "kernelspec": {
   "display_name": "Python 3",
   "language": "python",
   "name": "python3"
  },
  "language_info": {
   "codemirror_mode": {
    "name": "ipython",
    "version": 2
   },
   "file_extension": ".py",
   "mimetype": "text/x-python",
   "name": "python",
   "nbconvert_exporter": "python",
   "pygments_lexer": "ipython2",
   "version": "2.7.6"
  }
 },
 "nbformat": 4,
 "nbformat_minor": 0
}
