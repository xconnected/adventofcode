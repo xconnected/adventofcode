{
 "cells": [
  {
   "cell_type": "markdown",
   "source": [
    "# Advent of Code 2022 - Day 2"
   ],
   "metadata": {
    "collapsed": false
   }
  },
  {
   "cell_type": "code",
   "execution_count": 97,
   "outputs": [],
   "source": [
    "# https://adventofcode.com/2022/day/2\n",
    "\n",
    "import pandas as pd\n",
    "fn = \"Enter path and filename of input data\""
   ],
   "metadata": {
    "collapsed": false
   }
  },
  {
   "cell_type": "code",
   "execution_count": 111,
   "outputs": [
    {
     "name": "stdout",
     "output_type": "stream",
     "text": [
      "10994\n"
     ]
    }
   ],
   "source": [
    "rock = 1\n",
    "paper = 2\n",
    "scissor = 3\n",
    "\n",
    "win = 6\n",
    "draw = 3\n",
    "loss = 0\n",
    "\n",
    "op_rock = 'A'\n",
    "op_paper = 'B'\n",
    "op_scissor = 'C'\n",
    "\n",
    "me_rock = 'X'\n",
    "me_paper = 'Y'\n",
    "me_scissor = 'Z'\n",
    "\n",
    "My_Move_int = {\n",
    "    me_rock:rock,\n",
    "    me_paper:paper,\n",
    "    me_scissor:scissor,\n",
    "}\n",
    "\n",
    "me_win = {\n",
    "    'AX':draw,\n",
    "    'AY':win,\n",
    "    'AZ':loss,\n",
    "    'BX':loss,\n",
    "    'BY':draw,\n",
    "    'BZ':win,\n",
    "    'CX':win,\n",
    "    'CY':loss,\n",
    "    'CZ':draw,\n",
    "}\n",
    "\n",
    "df = pd.read_csv(fn, header=None, sep=\" \")\n",
    "df.columns =['Op_Move', 'My_Move']\n",
    "df['game'] = df['Op_Move'].astype(str) + df['My_Move'].astype(str)\n",
    "df['result'] = df['game'].replace(me_win) + df['My_Move'].replace(My_Move_int)\n",
    "print(df['result'].sum())"
   ],
   "metadata": {
    "collapsed": false
   }
  },
  {
   "cell_type": "code",
   "execution_count": 112,
   "outputs": [
    {
     "data": {
      "text/plain": "12526"
     },
     "execution_count": 112,
     "metadata": {},
     "output_type": "execute_result"
    }
   ],
   "source": [
    "rock = 1\n",
    "paper = 2\n",
    "scissor = 3\n",
    "\n",
    "win = 6\n",
    "draw = 3\n",
    "loss = 0\n",
    "\n",
    "result = {\n",
    "    'X':loss,\n",
    "    'Y':draw,\n",
    "    'Z':win\n",
    "}\n",
    "\n",
    "move = {\n",
    "    'AX':scissor,\n",
    "    'AY':rock,\n",
    "    'AZ':paper,\n",
    "    'BX':rock,\n",
    "    'BY':paper,\n",
    "    'BZ':scissor,\n",
    "    'CX':paper,\n",
    "    'CY':scissor,\n",
    "    'CZ':rock,\n",
    "}\n",
    "\n",
    "df = pd.read_csv(fn, header=None, sep=\" \")\n",
    "df.columns =['Op_Move', 'Outcome']\n",
    "df['game'] = df['Op_Move'].astype(str)+df['Outcome'].astype(str)\n",
    "df['result'] = df['Outcome'].replace(result) + df['game'].replace(move)\n",
    "df['result'].sum()"
   ],
   "metadata": {
    "collapsed": false
   }
  },
  {
   "cell_type": "code",
   "execution_count": null,
   "outputs": [],
   "source": [],
   "metadata": {
    "collapsed": false
   }
  }
 ],
 "metadata": {
  "kernelspec": {
   "display_name": "Python 3",
   "language": "python",
   "name": "python3"
  },
  "language_info": {
   "codemirror_mode": {
    "name": "ipython",
    "version": 2
   },
   "file_extension": ".py",
   "mimetype": "text/x-python",
   "name": "python",
   "nbconvert_exporter": "python",
   "pygments_lexer": "ipython2",
   "version": "2.7.6"
  }
 },
 "nbformat": 4,
 "nbformat_minor": 0
}
